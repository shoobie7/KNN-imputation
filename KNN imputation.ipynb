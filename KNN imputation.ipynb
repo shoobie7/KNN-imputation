{
 "cells": [
  {
   "cell_type": "code",
   "execution_count": 1,
   "id": "6a8ff715",
   "metadata": {},
   "outputs": [
    {
     "name": "stdout",
     "output_type": "stream",
     "text": [
      "Missing data has been imputed using KNN and the dataset has been saved as 'customers_purchase_history_imputed.csv'\n"
     ]
    }
   ],
   "source": [
    "import pandas as pd\n",
    "import numpy as np\n",
    "from sklearn.impute import KNNImputer\n",
    "\n",
    "# Create a dataframe\n",
    "data = {\n",
    "    'CustomerID': [1, 2, 3, 4, 5, 6, 7, 8, 9, 10],\n",
    "    'Purchase1': [200, 180, 220, 190, np.nan, 210, 205, np.nan, 200, 195],\n",
    "    'Purchase2': [150, np.nan, 160, 140, 155, 150, 145, 150, 160, 155],\n",
    "    'Purchase3': [300, 270, 310, np.nan, 320, 300, 295, 305, 300, 290],\n",
    "    'Purchase4': [250, 240, np.nan, 260, 255, 250, np.nan, 245, 250, 240]\n",
    "}\n",
    "\n",
    "df = pd.DataFrame(data)\n",
    "\n",
    "# Save the dataframe to a CSV file\n",
    "df.to_csv('customers_purchase_history.csv', index=False)\n",
    "\n",
    "# Perform KNN imputation\n",
    "imputer = KNNImputer(n_neighbors=2)\n",
    "imputed_data = imputer.fit_transform(df.drop(columns=['CustomerID']))\n",
    "\n",
    "# Convert the imputed data back to a dataframe\n",
    "df_imputed = pd.DataFrame(imputed_data, columns=['Purchase1', 'Purchase2', 'Purchase3', 'Purchase4'])\n",
    "\n",
    "# Add the CustomerID column back\n",
    "df_imputed.insert(0, 'CustomerID', df['CustomerID'])\n",
    "\n",
    "# Save the imputed dataframe to a new CSV file\n",
    "df_imputed.to_csv('customers_purchase_history_imputed.csv', index=False)\n",
    "\n",
    "print(\"Missing data has been imputed using KNN and the dataset has been saved as 'customers_purchase_history_imputed.csv'\")\n"
   ]
  },
  {
   "cell_type": "code",
   "execution_count": null,
   "id": "54f48d11",
   "metadata": {},
   "outputs": [],
   "source": []
  }
 ],
 "metadata": {
  "kernelspec": {
   "display_name": "Python 3 (ipykernel)",
   "language": "python",
   "name": "python3"
  },
  "language_info": {
   "codemirror_mode": {
    "name": "ipython",
    "version": 3
   },
   "file_extension": ".py",
   "mimetype": "text/x-python",
   "name": "python",
   "nbconvert_exporter": "python",
   "pygments_lexer": "ipython3",
   "version": "3.11.5"
  }
 },
 "nbformat": 4,
 "nbformat_minor": 5
}
